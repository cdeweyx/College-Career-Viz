{
 "cells": [
  {
   "cell_type": "markdown",
   "metadata": {},
   "source": [
    "# Unofficial Transcript PDF Scraper\n",
    "The goal is to take in an unofficial Virginia Tech transcript and return information about coursework and performance."
   ]
  },
  {
   "cell_type": "code",
   "execution_count": 114,
   "metadata": {},
   "outputs": [],
   "source": [
    "# Imports\n",
    "import numpy as np\n",
    "import pandas as pd\n",
    "import matplotlib.pyplot as plt\n",
    "import seaborn as sns\n",
    "%matplotlib inline"
   ]
  },
  {
   "cell_type": "code",
   "execution_count": 183,
   "metadata": {
    "collapsed": true
   },
   "outputs": [],
   "source": [
    "# Pdfminer imports\n",
    "from io import StringIO\n",
    "from pdfminer.pdfinterp import PDFResourceManager, PDFPageInterpreter\n",
    "from pdfminer.converter import TextConverter\n",
    "from pdfminer.pdfpage import PDFPage\n",
    "from pdfminer.layout import LAParams"
   ]
  },
  {
   "cell_type": "markdown",
   "metadata": {},
   "source": [
    "## Convert PDF to Text"
   ]
  },
  {
   "cell_type": "code",
   "execution_count": 884,
   "metadata": {
    "collapsed": true
   },
   "outputs": [],
   "source": [
    "def convert_pdf_to_txt(path):\n",
    "    rsrcmgr = PDFResourceManager()\n",
    "    retstr = StringIO()\n",
    "    codec = 'utf-8'\n",
    "    laparams = LAParams()\n",
    "    device = TextConverter(rsrcmgr, retstr, codec=codec, laparams=laparams)\n",
    "    fp = open(path, 'rb')\n",
    "    interpreter = PDFPageInterpreter(rsrcmgr, device)\n",
    "    maxpages = 0\n",
    "    caching = True\n",
    "    pagenos=set()\n",
    "\n",
    "    for page in PDFPage.get_pages(fp, pagenos, maxpages=maxpages, caching=caching, check_extractable=True):\n",
    "        interpreter.process_page(page)\n",
    "\n",
    "    text = retstr.getvalue()\n",
    "\n",
    "    fp.close()\n",
    "    device.close()\n",
    "    retstr.close()\n",
    "    return text"
   ]
  },
  {
   "cell_type": "code",
   "execution_count": 885,
   "metadata": {},
   "outputs": [],
   "source": [
    "# Run function\n",
    "text = convert_pdf_to_txt('UnofficialAcademicTranscript.pdf')"
   ]
  },
  {
   "cell_type": "code",
   "execution_count": 886,
   "metadata": {},
   "outputs": [
    {
     "data": {
      "text/plain": [
       "'7/22/2018\\n\\nUnofﬁcial Academic Transcipt\\n\\nDisplay\\xa0Unofficial\\xa0Transcript\\n\\n\\xa0\\n\\n07/22/18\\xa004:01\\xa0PM\\n\\xa0\\n\\nThis\\xa0is\\xa0NOT\\xa0an\\xa0official\\xa0transcript.\\xa0Courses\\xa0which\\xa0are\\xa0in\\xa0progress\\xa0may\\xa0also\\xa0be\\xa0included\\xa0on\\xa0this\\xa0transcript.\\n\\nTransfer\\xa0Credit\\xa0\\xa0\\xa0\\xa0Institution\\xa0Credit\\xa0\\xa0\\xa0\\xa0Transcript\\xa0Totals\\xa0\\xa0\\xa0\\xa0Courses\\xa0in\\xa0Progress\\n\\nTranscript\\xa0Data\\nSTUDENT\\xa0INFORMATION\\n\\nName\\xa0: Conor\\xa0F.\\xa0Dewey\\n\\nStudent\\xa0Type: Continuing\\n\\n\\xa0\\n***Transcript\\xa0type:WEB\\xa0is\\xa0NOT\\xa0Official\\xa0***\\n\\xa0\\n\\xa0\\n\\xa0\\nTRANSFER\\xa0CREDIT\\xa0ACCEPTED\\xa0BY\\xa0INSTITUTION\\xa0\\xa0\\xa0\\xa0\\xa0\\xa0\\xadTop\\xad\\n\\nNorthern\\xa0Va\\xa0Cmty\\xa0Coll\\xadAnnandal\\n\\nFS13\\xad\\nSS14:\\n\\nSubject Course\\n\\nTitle\\n\\nXXXX\\nXXXX\\n\\nVT\\nVT\\n\\xa0\\n\\nNo\\xa0VT\\xa0Equivalent\\nNo\\xa0VT\\xa0Equivalent\\nAttempt\\nHours\\n\\nPassed\\nHours\\n\\nGrade\\n\\nT\\nT\\nEarned\\nHours\\n\\nQuality\\xa0Points\\n\\nCredit\\nHours\\n\\n0.000\\xa0\\xa0\\n0.000\\xa0\\xa0\\n\\nGPA\\nHours\\n\\nQuality\\nPoints\\n\\nGPA\\n\\nCurrent\\xa0Term:\\n\\n0.000\\n\\n0.000\\n\\n0.000\\n\\n0.000\\n\\n0.00\\n\\n\\xa0\\nUnofficial\\xa0Transcript\\n\\nAdvanced\\xa0Placement\\n\\nSum\\xa0I\\n2015:\\n\\nSubject Course\\n\\nTitle\\n\\nGrade\\n\\nCredit\\nHours\\n\\nQuality\\xa0Points\\n\\n1114\\n1105\\n1105\\n1106\\n1225\\n2004\\n\\nCS\\nENGL\\nENGL\\nENGL\\nMATH\\nSTAT\\n\\xa0\\n\\nT\\n\\nIntro\\xa0to\\xa0Software\\xa0Design\\nCredit\\xa0Disal'"
      ]
     },
     "execution_count": 886,
     "metadata": {},
     "output_type": "execute_result"
    }
   ],
   "source": [
    "text[0:1000]"
   ]
  },
  {
   "cell_type": "markdown",
   "metadata": {},
   "source": [
    "## Scrape Relevant Information"
   ]
  },
  {
   "cell_type": "code",
   "execution_count": 899,
   "metadata": {},
   "outputs": [],
   "source": [
    "# Split by semester\n",
    "split_by_semester = text.split('Primary\\nCollege:')"
   ]
  },
  {
   "cell_type": "code",
   "execution_count": 900,
   "metadata": {
    "collapsed": true
   },
   "outputs": [],
   "source": [
    "# Grade list\n",
    "grade_list = ['A', 'A-', 'B+', 'B', 'B-', 'C+', 'C', 'C-', 'D+', 'D', 'D-', 'F', 'P', 'W', 'IP', 'AP', 'NT', 'NP'] "
   ]
  },
  {
   "cell_type": "code",
   "execution_count": 901,
   "metadata": {
    "collapsed": true
   },
   "outputs": [],
   "source": [
    "# Initializing lists\n",
    "semesters = []\n",
    "subjects = []\n",
    "numbers = []\n",
    "names = []\n",
    "grades = []\n",
    "credits = []"
   ]
  },
  {
   "cell_type": "code",
   "execution_count": 902,
   "metadata": {},
   "outputs": [],
   "source": [
    "# Loop through\n",
    "for index1, item in enumerate(split_by_semester[1:len(split_by_semester)-1]):\n",
    "    \n",
    "    # Split by lines within semester\n",
    "    temp = split_by_semester[index1 + 1].split('\\n')\n",
    "    \n",
    "    # Data cleaning\n",
    "    temp = list(filter(None, temp))\n",
    "    temp = [item.replace('\\xad', '') for item in temp if item not in ('Blacksburg UG', 'UG', 'Virtual')]\n",
    "    \n",
    "    # Course subjects\n",
    "    count = 0\n",
    "    for index, item in enumerate(temp):\n",
    "        if item == item.upper() and item[0].isalpha() and item not in ('GPA', 'UG') and item not in grade_list:\n",
    "            last_index = index\n",
    "            semesters.append(index1)\n",
    "            subjects.append(item)\n",
    "            count += 1\n",
    "    \n",
    "    # Course numbers\n",
    "    num_courses = count\n",
    "    stop = last_index + num_courses + 1\n",
    "    for index, item in enumerate(temp[last_index + 1: stop]):\n",
    "        if item.isdigit():\n",
    "            numbers.append(item)\n",
    "            last_index += 1\n",
    "      \n",
    "    # Course names\n",
    "    stop = last_index + num_courses + 1\n",
    "    for index, item in enumerate(temp[last_index + 1: stop]):\n",
    "        if len(item) > 1:\n",
    "            names.append(item)\n",
    "            \n",
    "    # Course grades\n",
    "    for index, item in enumerate(temp):\n",
    "        if item in grade_list:\n",
    "            grades.append(item)\n",
    "            last_index = index\n",
    "        \n",
    "    # Course credits\n",
    "    stop = last_index + num_courses + 1\n",
    "    for index, item in enumerate(temp[last_index + 1: stop]):\n",
    "        credits.append(item)"
   ]
  },
  {
   "cell_type": "markdown",
   "metadata": {},
   "source": [
    "## Create DataFrame"
   ]
  },
  {
   "cell_type": "code",
   "execution_count": 903,
   "metadata": {},
   "outputs": [],
   "source": [
    "# Create dataframe\n",
    "df = pd.DataFrame({'Semester':semesters, 'Subject':subjects, 'Course':numbers, \n",
    "                   'Title':names, 'Grade':grades, 'Credits':credits}, \n",
    "                  columns=['Semester', 'Subject', 'Course', 'Title', 'Grade', 'Credits'])"
   ]
  },
  {
   "cell_type": "code",
   "execution_count": 904,
   "metadata": {},
   "outputs": [
    {
     "data": {
      "text/html": [
       "<div>\n",
       "<style>\n",
       "    .dataframe thead tr:only-child th {\n",
       "        text-align: right;\n",
       "    }\n",
       "\n",
       "    .dataframe thead th {\n",
       "        text-align: left;\n",
       "    }\n",
       "\n",
       "    .dataframe tbody tr th {\n",
       "        vertical-align: top;\n",
       "    }\n",
       "</style>\n",
       "<table border=\"1\" class=\"dataframe\">\n",
       "  <thead>\n",
       "    <tr style=\"text-align: right;\">\n",
       "      <th></th>\n",
       "      <th>Semester</th>\n",
       "      <th>Subject</th>\n",
       "      <th>Course</th>\n",
       "      <th>Title</th>\n",
       "      <th>Grade</th>\n",
       "      <th>Credits</th>\n",
       "    </tr>\n",
       "  </thead>\n",
       "  <tbody>\n",
       "    <tr>\n",
       "      <th>0</th>\n",
       "      <td>0</td>\n",
       "      <td>CHEM</td>\n",
       "      <td>1035</td>\n",
       "      <td>General Chemistry</td>\n",
       "      <td>C+</td>\n",
       "      <td>3.000</td>\n",
       "    </tr>\n",
       "    <tr>\n",
       "      <th>1</th>\n",
       "      <td>0</td>\n",
       "      <td>CHEM</td>\n",
       "      <td>1045</td>\n",
       "      <td>General Chemistry Lab</td>\n",
       "      <td>B</td>\n",
       "      <td>1.000</td>\n",
       "    </tr>\n",
       "    <tr>\n",
       "      <th>2</th>\n",
       "      <td>0</td>\n",
       "      <td>CS</td>\n",
       "      <td>2114</td>\n",
       "      <td>Softw Des &amp; Data Structures</td>\n",
       "      <td>C</td>\n",
       "      <td>3.000</td>\n",
       "    </tr>\n",
       "    <tr>\n",
       "      <th>3</th>\n",
       "      <td>0</td>\n",
       "      <td>ENGE</td>\n",
       "      <td>1215</td>\n",
       "      <td>Foundations of Engineering</td>\n",
       "      <td>C+</td>\n",
       "      <td>2.000</td>\n",
       "    </tr>\n",
       "    <tr>\n",
       "      <th>4</th>\n",
       "      <td>0</td>\n",
       "      <td>ENGE</td>\n",
       "      <td>1354</td>\n",
       "      <td>Intro to Spatial Visualization</td>\n",
       "      <td>C+</td>\n",
       "      <td>1.000</td>\n",
       "    </tr>\n",
       "  </tbody>\n",
       "</table>\n",
       "</div>"
      ],
      "text/plain": [
       "   Semester Subject Course                           Title Grade Credits\n",
       "0         0    CHEM   1035               General Chemistry    C+   3.000\n",
       "1         0    CHEM   1045           General Chemistry Lab     B   1.000\n",
       "2         0      CS   2114     Softw Des & Data Structures     C   3.000\n",
       "3         0    ENGE   1215      Foundations of Engineering    C+   2.000\n",
       "4         0    ENGE   1354  Intro to Spatial Visualization    C+   1.000"
      ]
     },
     "execution_count": 904,
     "metadata": {},
     "output_type": "execute_result"
    }
   ],
   "source": [
    "df.head()"
   ]
  },
  {
   "cell_type": "code",
   "execution_count": null,
   "metadata": {
    "collapsed": true
   },
   "outputs": [],
   "source": []
  }
 ],
 "metadata": {
  "kernelspec": {
   "display_name": "Python 3",
   "language": "python",
   "name": "python3"
  },
  "language_info": {
   "codemirror_mode": {
    "name": "ipython",
    "version": 3
   },
   "file_extension": ".py",
   "mimetype": "text/x-python",
   "name": "python",
   "nbconvert_exporter": "python",
   "pygments_lexer": "ipython3",
   "version": "3.6.6"
  }
 },
 "nbformat": 4,
 "nbformat_minor": 2
}
